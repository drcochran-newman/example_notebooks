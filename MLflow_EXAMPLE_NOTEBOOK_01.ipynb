{
  "cells": [
    {
      "cell_type": "markdown",
      "source": [
        "# ML Flow Example Notebook 01\n",
        "\n",
        "Employ ML Flow methods for tracking process and registering model\n",
        "\n",
        "See this article for explanation:\n",
        "https://learn.microsoft.com/en-us/azure/machine-learning/how-to-use-mlflow-cli-runs \n",
        "\n",
        "by David Cochran"
      ],
      "metadata": {
        "nteract": {
          "transient": {
            "deleting": false
          }
        }
      }
    },
    {
      "cell_type": "markdown",
      "source": [
        "# Setup"
      ],
      "metadata": {
        "nteract": {
          "transient": {
            "deleting": false
          }
        }
      }
    },
    {
      "cell_type": "markdown",
      "source": [
        "## Connect to Azure Resources"
      ],
      "metadata": {
        "nteract": {
          "transient": {
            "deleting": false
          }
        }
      }
    },
    {
      "cell_type": "code",
      "source": [
        "# Connect to Azure Resources\n",
        "from azureml.core import Workspace\n",
        "from azure.ai.ml import MLClient\n",
        "from azure.identity import DefaultAzureCredential\n",
        "\n",
        "# Load workspace information from the config file and utilize below\n",
        "ws = Workspace.from_config()\n",
        "\n",
        "# Authenticate\n",
        "credential = DefaultAzureCredential()\n",
        "\n",
        "# Use the Workspace ws information to provide the following\n",
        "SUBSCRIPTION = ws.subscription_id\n",
        "RESOURCE_GROUP = ws.resource_group\n",
        "WS_NAME = ws.name\n",
        "\n",
        "# Create a handle to this workspace\n",
        "ml_client = MLClient(\n",
        "    credential=credential,\n",
        "    subscription_id=SUBSCRIPTION,\n",
        "    resource_group_name=RESOURCE_GROUP,\n",
        "    workspace_name=WS_NAME,\n",
        ")\n",
        "\n",
        "# # Print the workspace information (if desired)\n",
        "# print(credential)\n",
        "# print(SUBSCRIPTION)\n",
        "# print(RESOURCE_GROUP)\n",
        "# print(WS_NAME)\n",
        "# print(ws.location)"
      ],
      "outputs": [],
      "execution_count": null,
      "metadata": {
        "jupyter": {
          "source_hidden": false,
          "outputs_hidden": false
        },
        "nteract": {
          "transient": {
            "deleting": false
          }
        },
        "gather": {
          "logged": 1719375581769
        }
      }
    },
    {
      "cell_type": "markdown",
      "source": [
        "## Data Setup\n",
        "\n",
        "- Line up the data source\n",
        "\n",
        "- Store as variable `df`\n"
      ],
      "metadata": {
        "nteract": {
          "transient": {
            "deleting": false
          }
        }
      }
    },
    {
      "cell_type": "code",
      "source": [
        "import pandas as pd\n",
        "\n",
        "# Pull in data -- cleaned data ready for ML\n",
        "\n",
        "# Get online data using !wget is done in Microsoft Learn in lower parts of this exercise:\n",
        "# https://learn.microsoft.com/en-us/training/modules/explore-analyze-data-with-python/3-exercise-explore-data\n",
        "\n",
        "\n",
        "# Provide the URL for the RAW version of the dataset in GitHub\n",
        "# Ensure the GitHub URL includes \"https://raw.githubusercontent.com/\"\n",
        "!wget https://raw.githubusercontent.com/drcochran-newman/datasets/main/churn_modeling/churn_cleaned.csv\n",
        "\n",
        "# Now read the data from the dataset now saved locally in your current Azure ML directory\n",
        "# Use the same file name\n",
        "df = pd.read_csv('churn_cleaned.csv')\n",
        "\n",
        "df.head()"
      ],
      "outputs": [],
      "execution_count": null,
      "metadata": {
        "jupyter": {
          "source_hidden": false,
          "outputs_hidden": false
        },
        "nteract": {
          "transient": {
            "deleting": false
          }
        },
        "gather": {
          "logged": 1719375582365
        }
      }
    },
    {
      "cell_type": "markdown",
      "source": [
        "# ML Process"
      ],
      "metadata": {
        "nteract": {
          "transient": {
            "deleting": false
          }
        }
      }
    },
    {
      "cell_type": "code",
      "source": [
        "# Imports\n",
        "\n",
        "# Train/Test\n",
        "from sklearn.model_selection import train_test_split\n",
        "\n",
        "# Algorithm\n",
        "# from sklearn.linear_model import LogisticRegression\n",
        "# from sklearn.tree import DecisionTreeClassifier\n",
        "from sklearn.ensemble import RandomForestClassifier\n",
        "# from sklearn.ensemble import GradientBoostingClassifier\n",
        "\n",
        "# Metrics\n",
        "from sklearn.metrics import make_scorer, accuracy_score, precision_score, recall_score, f1_score, roc_auc_score, confusion_matrix\n",
        "\n",
        "# MLflow\n",
        "import mlflow\n",
        "import mlflow.sklearn"
      ],
      "outputs": [],
      "execution_count": null,
      "metadata": {
        "jupyter": {
          "source_hidden": false,
          "outputs_hidden": false
        },
        "nteract": {
          "transient": {
            "deleting": false
          }
        },
        "gather": {
          "logged": 1719375583625
        }
      }
    },
    {
      "cell_type": "code",
      "source": [
        "########################################################\n",
        "\n",
        "# ML Variables\n",
        "\n",
        "# Target Variable\n",
        "target = \"Exited\"\n",
        "\n",
        "# Train-Test Split\n",
        "split = 0.2\n",
        "\n",
        "# Random Seed\n",
        "seed = 42\n",
        "\n",
        "########################################################"
      ],
      "outputs": [],
      "execution_count": null,
      "metadata": {
        "jupyter": {
          "source_hidden": false,
          "outputs_hidden": false
        },
        "nteract": {
          "transient": {
            "deleting": false
          }
        },
        "gather": {
          "logged": 1719375116904
        }
      }
    },
    {
      "cell_type": "code",
      "source": [
        "########################################################\n",
        "\n",
        "# Specify details for this training run\n",
        "\n",
        "experiment_name = 'churn_variations'\n",
        "\n",
        "algorithm = 'RandomForestClassifier'\n",
        "\n",
        "training_iteration = '.04'\n",
        "\n",
        "registered_model_name = algorithm + training_iteration\n",
        "\n",
        "run_name = registered_model_name\n",
        "\n",
        "model = RandomForestClassifier(\n",
        "    random_state=seed,\n",
        "    max_depth = 16,\n",
        "    n_estimators = 50\n",
        ")\n",
        "\n",
        "########################################################"
      ],
      "outputs": [],
      "execution_count": null,
      "metadata": {
        "jupyter": {
          "source_hidden": false,
          "outputs_hidden": false
        },
        "nteract": {
          "transient": {
            "deleting": false
          }
        },
        "gather": {
          "logged": 1719375118659
        }
      }
    },
    {
      "cell_type": "code",
      "source": [
        "########################################################\n",
        "\n",
        "# ML Train, Test, Track and Log\n",
        "\n",
        "########################################################\n",
        "\n",
        "# Associate with experiment\n",
        "mlflow.set_experiment(experiment_name)\n",
        "\n",
        "# Start Logging\n",
        "mlflow.start_run(run_name=run_name)\n",
        "\n",
        "# enable autologging\n",
        "mlflow.sklearn.autolog()\n",
        "\n",
        "# Define Features — all columns except target variable\n",
        "features = df.drop(target, axis=1)\n",
        "\n",
        "# Define Labels — only the target variable column\n",
        "labels = df[target]\n",
        "\n",
        "# Create Train and Test Splits\n",
        "X_train, X_test, y_train, y_test = train_test_split(features, labels, test_size = split, random_state = seed)\n",
        "\n",
        "# Log shape of train and test splits\n",
        "mlflow.log_metric(\"num_samples\", df.shape[0])\n",
        "mlflow.log_metric(\"num_features\", df.shape[1] - 1)\n",
        "\n",
        "# Train and test the model\n",
        "model.fit(X_train, y_train)\n",
        "\n",
        "y_pred = model.predict(X_test)\n",
        "\n",
        "accuracy = accuracy_score(y_test, y_pred) * 100\n",
        "precision = precision_score(y_test, y_pred) * 100\n",
        "recall = recall_score(y_test, y_pred) * 100\n",
        "f1 = f1_score(y_test, y_pred) * 100\n",
        "auc = roc_auc_score(y_test, y_pred)\n",
        "\n",
        "# Register the model to the workspace\n",
        "print(\"Registering the model via MLFlow\")\n",
        "mlflow.sklearn.log_model(\n",
        "    sk_model=model,\n",
        "    registered_model_name=registered_model_name,\n",
        "    artifact_path=registered_model_name,\n",
        ")\n",
        "\n",
        "# Save the model to a file\n",
        "mlflow.sklearn.save_model(\n",
        "    sk_model=model,\n",
        "    path=registered_model_name\n",
        ")\n",
        "\n",
        "# Stop Logging\n",
        "mlflow.end_run()"
      ],
      "outputs": [],
      "execution_count": null,
      "metadata": {
        "jupyter": {
          "source_hidden": false,
          "outputs_hidden": false
        },
        "nteract": {
          "transient": {
            "deleting": false
          }
        },
        "gather": {
          "logged": 1719375602106
        },
        "collapsed": false
      }
    }
  ],
  "metadata": {
    "kernelspec": {
      "name": "python310-sdkv2",
      "language": "python",
      "display_name": "Python 3.10 - SDK v2"
    },
    "language_info": {
      "name": "python",
      "version": "3.10.11",
      "mimetype": "text/x-python",
      "codemirror_mode": {
        "name": "ipython",
        "version": 3
      },
      "pygments_lexer": "ipython3",
      "nbconvert_exporter": "python",
      "file_extension": ".py"
    },
    "microsoft": {
      "ms_spell_check": {
        "ms_spell_check_language": "en"
      },
      "host": {
        "AzureML": {
          "notebookHasBeenCompleted": true
        }
      }
    },
    "kernel_info": {
      "name": "python310-sdkv2"
    },
    "nteract": {
      "version": "nteract-front-end@1.0.0"
    }
  },
  "nbformat": 4,
  "nbformat_minor": 2
}